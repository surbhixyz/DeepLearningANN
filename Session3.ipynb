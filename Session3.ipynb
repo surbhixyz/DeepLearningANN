{
  "nbformat": 4,
  "nbformat_minor": 0,
  "metadata": {
    "colab": {
      "name": "Session3.ipynb",
      "provenance": [],
      "collapsed_sections": []
    },
    "kernelspec": {
      "name": "python3",
      "display_name": "Python 3"
    },
    "language_info": {
      "name": "python"
    }
  },
  "cells": [
    {
      "cell_type": "code",
      "execution_count": null,
      "metadata": {
        "id": "UfM1bVHj5dD_"
      },
      "outputs": [],
      "source": [
        "import numpy as np"
      ]
    },
    {
      "cell_type": "code",
      "source": [
        "x=np.array([[1,0,1,0],[1,0,1,1],[0,1,0,1]])\n",
        "y=np.array([[1],[1],[0]])"
      ],
      "metadata": {
        "id": "YdoigbSh5_Qk"
      },
      "execution_count": null,
      "outputs": []
    },
    {
      "cell_type": "code",
      "source": [
        "x       # 3 neurons in hidden layer 2 neurons in input layer"
      ],
      "metadata": {
        "colab": {
          "base_uri": "https://localhost:8080/"
        },
        "id": "1P9BfTfu6eKQ",
        "outputId": "7cdba631-29eb-4baf-8ce4-efd570508595"
      },
      "execution_count": null,
      "outputs": [
        {
          "output_type": "execute_result",
          "data": {
            "text/plain": [
              "array([[1, 0, 1, 0],\n",
              "       [1, 0, 1, 1],\n",
              "       [0, 1, 0, 1]])"
            ]
          },
          "metadata": {},
          "execution_count": 10
        }
      ]
    },
    {
      "cell_type": "code",
      "source": [
        "y     #signum either 1 or 0"
      ],
      "metadata": {
        "colab": {
          "base_uri": "https://localhost:8080/"
        },
        "id": "9FpCzp4Q6e9S",
        "outputId": "2e178085-b3a1-4619-b9bf-45d9a0f7f972"
      },
      "execution_count": null,
      "outputs": [
        {
          "output_type": "execute_result",
          "data": {
            "text/plain": [
              "array([[1],\n",
              "       [1],\n",
              "       [0]])"
            ]
          },
          "metadata": {},
          "execution_count": 11
        }
      ]
    },
    {
      "cell_type": "code",
      "source": [
        "input_neurons=x.shape[1]\n",
        "hidden_neurons=3\n",
        "output_neurons=1"
      ],
      "metadata": {
        "id": "c6si9U2-9TRc"
      },
      "execution_count": null,
      "outputs": []
    },
    {
      "cell_type": "code",
      "source": [
        "input_neurons"
      ],
      "metadata": {
        "colab": {
          "base_uri": "https://localhost:8080/"
        },
        "id": "dGh4Rw199jKN",
        "outputId": "948f1376-3916-4a19-f8c9-bff5bbc17485"
      },
      "execution_count": null,
      "outputs": [
        {
          "output_type": "execute_result",
          "data": {
            "text/plain": [
              "4"
            ]
          },
          "metadata": {},
          "execution_count": 13
        }
      ]
    },
    {
      "cell_type": "code",
      "source": [
        "def sigmoid(x):\n",
        "  return 1/(1+np.exp(-x))           #feedforward\n",
        "\n",
        "def derivatesigmoid(x):\n",
        "  return x*(x-1)                    #backpropagation"
      ],
      "metadata": {
        "id": "FcfqTNPb92Nl"
      },
      "execution_count": null,
      "outputs": []
    },
    {
      "cell_type": "code",
      "source": [
        "weight_hidden=np.random.uniform(size=(input_neurons,hidden_neurons))  \n",
        "weight_output=np.random.uniform(size=(hidden_neurons,output_neurons))\n",
        "bias_hidden=np.random.uniform(size=(1,hidden_neurons))\n",
        "bias_output=np.random.uniform(size=(1,output_neurons))"
      ],
      "metadata": {
        "id": "jBZBOL0S_ZvL"
      },
      "execution_count": null,
      "outputs": []
    },
    {
      "cell_type": "code",
      "source": [
        "weight_hidden"
      ],
      "metadata": {
        "colab": {
          "base_uri": "https://localhost:8080/"
        },
        "id": "Lcmyq63lB91V",
        "outputId": "8f478e27-4fb8-4511-ea58-fdba205ba2cb"
      },
      "execution_count": null,
      "outputs": [
        {
          "output_type": "execute_result",
          "data": {
            "text/plain": [
              "array([[0.65255445, 0.65969455, 0.68151068],\n",
              "       [0.16539341, 0.95605743, 0.90882996],\n",
              "       [0.61512638, 0.00389069, 0.83439883],\n",
              "       [0.05995579, 0.90312655, 0.94105144]])"
            ]
          },
          "metadata": {},
          "execution_count": 26
        }
      ]
    },
    {
      "cell_type": "code",
      "source": [
        "weight_output"
      ],
      "metadata": {
        "colab": {
          "base_uri": "https://localhost:8080/"
        },
        "id": "BEM45MRZFqwl",
        "outputId": "f33baf4a-d551-4fe4-a74c-778c77a12211"
      },
      "execution_count": null,
      "outputs": [
        {
          "output_type": "execute_result",
          "data": {
            "text/plain": [
              "array([[0.0939612 ],\n",
              "       [0.53445952],\n",
              "       [0.06577688]])"
            ]
          },
          "metadata": {},
          "execution_count": 65
        }
      ]
    },
    {
      "cell_type": "code",
      "source": [
        "bias_hidden"
      ],
      "metadata": {
        "colab": {
          "base_uri": "https://localhost:8080/"
        },
        "id": "MMp7HYAtFrbY",
        "outputId": "577925cb-2ffd-4465-e647-32051c6f4f7b"
      },
      "execution_count": null,
      "outputs": [
        {
          "output_type": "execute_result",
          "data": {
            "text/plain": [
              "array([[0.11593108, 0.50678413, 0.99592023]])"
            ]
          },
          "metadata": {},
          "execution_count": 28
        }
      ]
    },
    {
      "cell_type": "code",
      "source": [
        "bias_output"
      ],
      "metadata": {
        "colab": {
          "base_uri": "https://localhost:8080/"
        },
        "id": "qQ2QPEhFFx_5",
        "outputId": "1b2ec8e6-c5fc-48ae-c81a-dbf5538c8042"
      },
      "execution_count": null,
      "outputs": [
        {
          "output_type": "execute_result",
          "data": {
            "text/plain": [
              "array([[0.30308906]])"
            ]
          },
          "metadata": {},
          "execution_count": 29
        }
      ]
    },
    {
      "cell_type": "code",
      "source": [
        "hidden_Layer=sigmoid(fx)\n",
        "hidden_Layer"
      ],
      "metadata": {
        "colab": {
          "base_uri": "https://localhost:8080/"
        },
        "id": "aVyh0m0XGrsH",
        "outputId": "9148c31c-0594-427c-8291-926c53d540f6"
      },
      "execution_count": null,
      "outputs": [
        {
          "output_type": "execute_result",
          "data": {
            "text/plain": [
              "array([[0.79957046, 0.76321177, 0.92496698],\n",
              "       [0.80900652, 0.88830031, 0.96931695],\n",
              "       [0.58450148, 0.91419512, 0.94510126]])"
            ]
          },
          "metadata": {},
          "execution_count": 58
        }
      ]
    },
    {
      "cell_type": "code",
      "source": [
        "fx2=np.dot(hidden_Layer,weight_ouput)+bias_output\n",
        "fx2"
      ],
      "metadata": {
        "colab": {
          "base_uri": "https://localhost:8080/"
        },
        "id": "0czsFJhuHQp-",
        "outputId": "f7694310-2828-4578-c07a-1e4f972a54a4"
      },
      "execution_count": null,
      "outputs": [
        {
          "output_type": "execute_result",
          "data": {
            "text/plain": [
              "array([[2.1827521 ],\n",
              "       [2.31237659],\n",
              "       [2.15371109]])"
            ]
          },
          "metadata": {},
          "execution_count": 35
        }
      ]
    },
    {
      "cell_type": "code",
      "source": [
        "output_layer=sigmoid(fx2)\n",
        "output_layer"
      ],
      "metadata": {
        "colab": {
          "base_uri": "https://localhost:8080/"
        },
        "id": "XMwrJkPcH-bT",
        "outputId": "f36265d9-9a37-4244-d339-935eaa69d8e7"
      },
      "execution_count": null,
      "outputs": [
        {
          "output_type": "execute_result",
          "data": {
            "text/plain": [
              "array([[0.89868992],\n",
              "       [0.90989689],\n",
              "       [0.89601506]])"
            ]
          },
          "metadata": {},
          "execution_count": 37
        }
      ]
    },
    {
      "cell_type": "code",
      "source": [
        "# backpropagation"
      ],
      "metadata": {
        "id": "spcFfJfoIvFf"
      },
      "execution_count": null,
      "outputs": []
    },
    {
      "cell_type": "code",
      "source": [
        "loss=y-output_layer\n",
        "loss"
      ],
      "metadata": {
        "colab": {
          "base_uri": "https://localhost:8080/"
        },
        "id": "yG-RQsiCJrXi",
        "outputId": "7753a365-6ef5-4268-db40-9d0c33349daf"
      },
      "execution_count": null,
      "outputs": [
        {
          "output_type": "execute_result",
          "data": {
            "text/plain": [
              "array([[ 0.10131008],\n",
              "       [ 0.09010311],\n",
              "       [-0.89601506]])"
            ]
          },
          "metadata": {},
          "execution_count": 39
        }
      ]
    },
    {
      "cell_type": "code",
      "source": [
        "slope=derivatesigmoid(output_layer)\n",
        "slope"
      ],
      "metadata": {
        "colab": {
          "base_uri": "https://localhost:8080/"
        },
        "id": "wdm4URxGJws9",
        "outputId": "6761dcd6-557e-4da5-8e75-79cbdb50f2cf"
      },
      "execution_count": null,
      "outputs": [
        {
          "output_type": "execute_result",
          "data": {
            "text/plain": [
              "array([[-0.09104635],\n",
              "       [-0.08198454],\n",
              "       [-0.09317208]])"
            ]
          },
          "metadata": {},
          "execution_count": 40
        }
      ]
    },
    {
      "cell_type": "code",
      "source": [
        "delta=loss*slope\n",
        "delta"
      ],
      "metadata": {
        "colab": {
          "base_uri": "https://localhost:8080/"
        },
        "id": "8-F5k0bZKC7K",
        "outputId": "aa7218e4-713c-45ff-faae-6b6de97650dc"
      },
      "execution_count": null,
      "outputs": [
        {
          "output_type": "execute_result",
          "data": {
            "text/plain": [
              "array([[-0.00922391],\n",
              "       [-0.00738706],\n",
              "       [ 0.08348358]])"
            ]
          },
          "metadata": {},
          "execution_count": 42
        }
      ]
    },
    {
      "cell_type": "code",
      "source": [
        "lossHidden=np.dot(delta,weight_output.T)\n",
        "lossHidden"
      ],
      "metadata": {
        "colab": {
          "base_uri": "https://localhost:8080/"
        },
        "id": "6dO2iaHKNZ_P",
        "outputId": "018919d3-e6fe-4501-dda5-16566b5954b6"
      },
      "execution_count": null,
      "outputs": [
        {
          "output_type": "execute_result",
          "data": {
            "text/plain": [
              "array([[-0.00635498, -0.00619254, -0.00814124],\n",
              "       [-0.00508945, -0.00495936, -0.00651999],\n",
              "       [ 0.05751754,  0.05604729,  0.0736845 ]])"
            ]
          },
          "metadata": {},
          "execution_count": 52
        }
      ]
    },
    {
      "cell_type": "code",
      "source": [
        "slopeHidden=derivatesigmoid(hidden_Layer)\n",
        "slopeHidden"
      ],
      "metadata": {
        "colab": {
          "base_uri": "https://localhost:8080/"
        },
        "id": "yWDFnV9ZOcFw",
        "outputId": "c6e3b0f2-f91a-4019-c259-f71767fa3501"
      },
      "execution_count": null,
      "outputs": [
        {
          "output_type": "execute_result",
          "data": {
            "text/plain": [
              "array([[-0.16025754, -0.18071956, -0.06940307],\n",
              "       [-0.15451497, -0.09922287, -0.0297416 ],\n",
              "       [-0.2428595 , -0.07844241, -0.05188487]])"
            ]
          },
          "metadata": {},
          "execution_count": 53
        }
      ]
    },
    {
      "cell_type": "code",
      "source": [
        "deltaHidden=slopeHidden*lossHidden\n",
        "deltaHidden"
      ],
      "metadata": {
        "colab": {
          "base_uri": "https://localhost:8080/"
        },
        "id": "IpP5knJLOrU8",
        "outputId": "c389c587-3e62-4a50-da7d-d1c25f469439"
      },
      "execution_count": null,
      "outputs": [
        {
          "output_type": "execute_result",
          "data": {
            "text/plain": [
              "array([[ 0.00101843,  0.00111911,  0.00056503],\n",
              "       [ 0.0007864 ,  0.00049208,  0.00019391],\n",
              "       [-0.01396868, -0.00439648, -0.00382311]])"
            ]
          },
          "metadata": {},
          "execution_count": 55
        }
      ]
    },
    {
      "cell_type": "code",
      "source": [
        "# optimization"
      ],
      "metadata": {
        "id": "3d-N7gAPPHfq"
      },
      "execution_count": null,
      "outputs": []
    },
    {
      "cell_type": "code",
      "source": [
        "weight_output=weight_output-np.dot(hidden_Layer.T,delta)*alpha\n",
        "weight_output"
      ],
      "metadata": {
        "colab": {
          "base_uri": "https://localhost:8080/"
        },
        "id": "JKTNz1jBPbM7",
        "outputId": "eb82cae9-04f0-40f9-b010-75d4149870c0"
      },
      "execution_count": null,
      "outputs": [
        {
          "output_type": "execute_result",
          "data": {
            "text/plain": [
              "array([[0.61736949],\n",
              "       [0.5446655 ],\n",
              "       [0.75494208]])"
            ]
          },
          "metadata": {},
          "execution_count": 72
        }
      ]
    },
    {
      "cell_type": "code",
      "source": [
        "weight_hidden=weight_hidden-np.dot(x.T,deltaHidden)\n",
        "weight_hidden"
      ],
      "metadata": {
        "colab": {
          "base_uri": "https://localhost:8080/"
        },
        "id": "rqIw0TvPSY1_",
        "outputId": "9a3ba99e-5202-49a7-ceb3-2232aa4ba35d"
      },
      "execution_count": null,
      "outputs": [
        {
          "output_type": "execute_result",
          "data": {
            "text/plain": [
              "array([[0.83478783, 0.70139421, 0.78994908],\n",
              "       [0.2896452 , 0.88612726, 0.57850047],\n",
              "       [0.267547  , 0.18818504, 0.33249604],\n",
              "       [0.94464978, 0.8553993 , 0.72739744]])"
            ]
          },
          "metadata": {},
          "execution_count": 80
        }
      ]
    },
    {
      "cell_type": "code",
      "source": [
        "bias_output=bias_hidden-np.sum(delta)*alpha\n",
        "bias_output"
      ],
      "metadata": {
        "colab": {
          "base_uri": "https://localhost:8080/"
        },
        "id": "oBhOY2MrViG6",
        "outputId": "a6c279bf-a354-432d-8e79-a6df509d14c9"
      },
      "execution_count": null,
      "outputs": [
        {
          "output_type": "execute_result",
          "data": {
            "text/plain": [
              "array([[0.98879252, 0.63023526, 0.14990771]])"
            ]
          },
          "metadata": {},
          "execution_count": 83
        }
      ]
    },
    {
      "cell_type": "code",
      "source": [
        "bias_hidden=bias_output-np.sum(deltaHidden)*alpha\n",
        "bias_hidden"
      ],
      "metadata": {
        "colab": {
          "base_uri": "https://localhost:8080/"
        },
        "id": "qpweIDO4WC8Q",
        "outputId": "140764de-e230-4d51-8226-75a461b31d22"
      },
      "execution_count": null,
      "outputs": [
        {
          "output_type": "execute_result",
          "data": {
            "text/plain": [
              "array([[0.98897265, 0.63041539, 0.15008784]])"
            ]
          },
          "metadata": {},
          "execution_count": 84
        }
      ]
    },
    {
      "cell_type": "code",
      "source": [
        "alpha=0.01\n",
        "epochs=15000\n",
        "weight_hidden=np.random.uniform(size=(input_neurons,hidden_neurons))  \n",
        "weight_output=np.random.uniform(size=(hidden_neurons,output_neurons))\n",
        "bias_hidden=np.random.uniform(size=(1,hidden_neurons))\n",
        "bias_output=np.random.uniform(size=(1,output_neurons))\n",
        "for i in range(epochs):\n",
        "  fx=np.dot(x,weight_hidden)+bias_hidden\n",
        "  hidden_Layer=sigmoid(fx)\n",
        "  fx2=np.dot(hidden_Layer,weight_output)+bias_output\n",
        "  hidden_Layer=sigmoid(fx2)\n",
        "\n",
        "\n",
        "\n",
        "  loss=output_layer-y\n",
        "  slope=derivatesigmoid(output_layer)\n",
        "  delta=loss*slope\n",
        "\n",
        "\n",
        "\n",
        "  lossHidden=np.dot(delta,weight_output.T)\n",
        "  slopeHidden=derivatesigmoid(hidden_Layer)\n",
        "  deltaHidden=slopeHidden*lossHidden\n",
        "\n",
        "\n",
        "\n",
        "\n",
        "  weight_output=weight_output-np.dot(hidden_Layer.T,delta)*alpha\n",
        "  weight_hidden=weight_hidden-np.dot(x.T,deltaHidden)\n",
        "  bias_output=bias_hidden-np.sum(delta)*alpha\n",
        "  bias_hidden=bias_output-np.sum(deltaHidden)*alpha\n",
        "\n"
      ],
      "metadata": {
        "colab": {
          "base_uri": "https://localhost:8080/"
        },
        "id": "fwON5nEkZRKI",
        "outputId": "9f900711-f029-44e6-a7f9-70db3c662e88"
      },
      "execution_count": null,
      "outputs": [
        {
          "output_type": "stream",
          "name": "stderr",
          "text": [
            "/usr/local/lib/python3.7/dist-packages/ipykernel_launcher.py:2: RuntimeWarning: overflow encountered in exp\n",
            "  \n"
          ]
        }
      ]
    },
    {
      "cell_type": "code",
      "source": [
        "output_layer"
      ],
      "metadata": {
        "colab": {
          "base_uri": "https://localhost:8080/"
        },
        "id": "nlMvdAmYdTpA",
        "outputId": "9dbeef96-df7d-4e0f-e8e8-f5cbd89c4d55"
      },
      "execution_count": null,
      "outputs": [
        {
          "output_type": "execute_result",
          "data": {
            "text/plain": [
              "array([[0.89868992],\n",
              "       [0.90989689],\n",
              "       [0.89601506]])"
            ]
          },
          "metadata": {},
          "execution_count": 101
        }
      ]
    }
  ]
}